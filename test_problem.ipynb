{
 "cells": [
  {
   "cell_type": "code",
   "execution_count": 7,
   "id": "360e726a-6041-474b-a5f0-33c1ce654c25",
   "metadata": {},
   "outputs": [],
   "source": [
    "import numpy as np\n",
    "import jax.numpy as jnp\n",
    "import pymanopt\n",
    "import pymanopt.manifolds\n",
    "import pymanopt.optimizers\n",
    "# 2024.4.24時点 python 3.11だとうまくいかなかった(3.8 or 3.9だとうまくいった）"
   ]
  },
  {
   "cell_type": "code",
   "execution_count": 6,
   "id": "bd65911a-62f0-457b-8cac-6f26b590f962",
   "metadata": {},
   "outputs": [
    {
     "name": "stdout",
     "output_type": "stream",
     "text": [
      "Optimizing...\n",
      "Iteration    Cost                       Gradient norm     \n",
      "---------    -----------------------    --------------    \n",
      "   1         +1.1041943339110254e+00    5.65626470e-01    \n",
      "   2         +5.2849633289004561e-01    8.90742722e-01    \n",
      "   3         -8.0741058657312548e-01    2.23937710e+00    \n",
      "   4         -1.2667369971251594e+00    1.59671326e+00    \n",
      "   5         -1.4100298597091832e+00    1.11228845e+00    \n",
      "   6         -1.5219408277812512e+00    2.45507203e-01    \n",
      "   7         -1.5269956262562043e+00    6.81712914e-02    \n",
      "   8         -1.5273114803528720e+00    3.40941735e-02    \n",
      "   9         -1.5273905588875480e+00    1.70222768e-02    \n",
      "  10         -1.5274100956128589e+00    8.61140952e-03    \n",
      "  11         -1.5274154319869795e+00    3.90706915e-03    \n",
      "  12         -1.5274156215853691e+00    3.62943718e-03    \n",
      "  13         -1.5274162595153569e+00    2.47643434e-03    \n",
      "  14         -1.5274168030608730e+00    3.66399058e-04    \n",
      "  15         -1.5274168133149908e+00    1.45208423e-04    \n",
      "  16         -1.5274168150025262e+00    4.96197689e-05    \n",
      "  17         -1.5274168150485170e+00    4.42106105e-05    \n",
      "  18         -1.5274168151847105e+00    2.12502114e-05    \n",
      "  19         -1.5274168152075767e+00    1.41143625e-05    \n",
      "  20         -1.5274168152243446e+00    3.76438712e-06    \n",
      "  21         -1.5274168152251155e+00    2.38030654e-06    \n",
      "  22         -1.5274168152254997e+00    1.19400456e-06    \n",
      "  23         -1.5274168152255976e+00    5.81229608e-07    \n",
      "Terminated - min grad norm reached after 23 iterations, 0.02 seconds.\n",
      "\n",
      "Dominant eigenvector: [-0.78442334 -0.38225031 -0.48843088]\n",
      "Pymanopt solution: [0.78442338 0.3822503  0.48843083]\n"
     ]
    }
   ],
   "source": [
    "np.random.seed(42)\n",
    "\n",
    "dim = 3\n",
    "manifold = pymanopt.manifolds.Sphere(dim)\n",
    "\n",
    "matrix = jnp.array(np.random.randn(dim, dim))\n",
    "matrix = 0.5 * (matrix + matrix.T)\n",
    "\n",
    "@pymanopt.function.autograd(manifold)\n",
    "def cost(point):\n",
    "    return -point @ matrix @ point\n",
    "\n",
    "problem = pymanopt.Problem(manifold, cost)\n",
    "\n",
    "optimizer = pymanopt.optimizers.SteepestDescent()\n",
    "result = optimizer.run(problem)\n",
    "\n",
    "eigenvalues, eigenvectors = np.linalg.eig(matrix)\n",
    "dominant_eigenvector = eigenvectors[:, eigenvalues.argmax()]\n",
    "\n",
    "print(\"Dominant eigenvector:\", dominant_eigenvector)\n",
    "print(\"Pymanopt solution:\", result.point)"
   ]
  },
  {
   "cell_type": "code",
   "execution_count": null,
   "id": "ffc4f2b6-1e44-46f6-b8e7-609255b42373",
   "metadata": {},
   "outputs": [],
   "source": []
  }
 ],
 "metadata": {
  "kernelspec": {
   "display_name": "Python 3 (ipykernel)",
   "language": "python",
   "name": "python3"
  },
  "language_info": {
   "codemirror_mode": {
    "name": "ipython",
    "version": 3
   },
   "file_extension": ".py",
   "mimetype": "text/x-python",
   "name": "python",
   "nbconvert_exporter": "python",
   "pygments_lexer": "ipython3",
   "version": "3.8.13"
  }
 },
 "nbformat": 4,
 "nbformat_minor": 5
}
